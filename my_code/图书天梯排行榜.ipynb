{
 "cells": [
  {
   "cell_type": "code",
   "execution_count": 27,
   "metadata": {},
   "outputs": [],
   "source": [
    "import redis"
   ]
  },
  {
   "cell_type": "code",
   "execution_count": 28,
   "metadata": {},
   "outputs": [],
   "source": [
    "redis_conn = redis.Redis(host='localhost', port=6379, db=0)"
   ]
  },
  {
   "cell_type": "code",
   "execution_count": 29,
   "metadata": {},
   "outputs": [
    {
     "data": {
      "text/plain": [
       "[b'foo', b'foo1', b'article']"
      ]
     },
     "execution_count": 29,
     "metadata": {},
     "output_type": "execute_result"
    }
   ],
   "source": [
    "redis_conn.keys()"
   ]
  },
  {
   "cell_type": "code",
   "execution_count": 30,
   "metadata": {},
   "outputs": [],
   "source": [
    "for key in redis_conn.keys():\n",
    "    redis_conn.delete(key)"
   ]
  },
  {
   "cell_type": "code",
   "execution_count": 31,
   "metadata": {},
   "outputs": [
    {
     "data": {
      "text/plain": [
       "b'bar'"
      ]
     },
     "execution_count": 31,
     "metadata": {},
     "output_type": "execute_result"
    }
   ],
   "source": [
    "redis_conn.set('foo', 'bar')\n",
    "redis_conn.get('foo')"
   ]
  },
  {
   "cell_type": "code",
   "execution_count": 32,
   "metadata": {},
   "outputs": [],
   "source": [
    "# 使用hash，类map的形式，存储（id，标题）数据\n",
    "for idx in range(1, 10):\n",
    "    redis_conn.hset('article', idx, 'title' + str(idx))"
   ]
  },
  {
   "cell_type": "code",
   "execution_count": 33,
   "metadata": {},
   "outputs": [
    {
     "data": {
      "text/plain": [
       "{b'1': b'title1',\n",
       " b'2': b'title2',\n",
       " b'3': b'title3',\n",
       " b'4': b'title4',\n",
       " b'5': b'title5',\n",
       " b'6': b'title6',\n",
       " b'7': b'title7',\n",
       " b'8': b'title8',\n",
       " b'9': b'title9'}"
      ]
     },
     "execution_count": 33,
     "metadata": {},
     "output_type": "execute_result"
    }
   ],
   "source": [
    "redis_conn.hgetall('article')"
   ]
  },
  {
   "cell_type": "code",
   "execution_count": 34,
   "metadata": {},
   "outputs": [
    {
     "name": "stdout",
     "output_type": "stream",
     "text": [
      "##############################\n",
      "b'1' b'title1'\n",
      "1 title1\n",
      "##############################\n",
      "b'2' b'title2'\n",
      "2 title2\n",
      "##############################\n",
      "b'3' b'title3'\n",
      "3 title3\n",
      "##############################\n",
      "b'4' b'title4'\n",
      "4 title4\n",
      "##############################\n",
      "b'5' b'title5'\n",
      "5 title5\n",
      "##############################\n",
      "b'6' b'title6'\n",
      "6 title6\n",
      "##############################\n",
      "b'7' b'title7'\n",
      "7 title7\n",
      "##############################\n",
      "b'8' b'title8'\n",
      "8 title8\n",
      "##############################\n",
      "b'9' b'title9'\n",
      "9 title9\n"
     ]
    }
   ],
   "source": [
    "# 展示所有的文章列表\n",
    "for article_id, article_title in redis_conn.hgetall('article').items():\n",
    "    print(\"#\"*30)\n",
    "    print(article_id, article_title)\n",
    "    print(article_id.decode(\"utf-8\"), article_title.decode(\"utf-8\"))"
   ]
  },
  {
   "cell_type": "code",
   "execution_count": 35,
   "metadata": {},
   "outputs": [
    {
     "data": {
      "text/plain": [
       "b'title1'"
      ]
     },
     "execution_count": 35,
     "metadata": {},
     "output_type": "execute_result"
    }
   ],
   "source": [
    "# 展示单个文章的标题  key id\n",
    "redis_conn.hget('article', '1')"
   ]
  },
  {
   "cell_type": "code",
   "execution_count": 36,
   "metadata": {},
   "outputs": [],
   "source": [
    "def user_visit(uid, article_id):\n",
    "    # string\n",
    "    redis_conn.incr(f\"article_counter_{article_id}\")\n",
    "    # List\n",
    "    redis_conn.lpush(f\"user_visit_{uid}\", article_id)\n",
    "    # Set\n",
    "    redis_conn.sadd(f\"all_visit_uids\", str(uid))\n",
    "    # SortedSet\n",
    "    redis_conn.zincrby(\"article_hots\", 1, article_id)"
   ]
  },
  {
   "cell_type": "code",
   "execution_count": 39,
   "metadata": {},
   "outputs": [],
   "source": [
    "user_visit(\"uid_01\",\"1\")\n",
    "user_visit(\"uid_01\",\"2\")\n",
    "user_visit(\"uid_01\",\"3\")\n",
    "\n",
    "user_visit(\"uid_02\",\"2\")\n",
    "user_visit(\"uid_02\",\"3\")\n",
    "user_visit(\"uid_02\",\"4\")\n",
    "\n",
    "user_visit(\"uid_03\",\"4\")\n",
    "user_visit(\"uid_03\",\"5\")\n",
    "user_visit(\"uid_03\",\"6\")"
   ]
  },
  {
   "cell_type": "code",
   "execution_count": 40,
   "metadata": {},
   "outputs": [
    {
     "data": {
      "text/plain": [
       "b'3'"
      ]
     },
     "execution_count": 40,
     "metadata": {},
     "output_type": "execute_result"
    }
   ],
   "source": [
    "redis_conn.get(f\"article_counter_1\")"
   ]
  },
  {
   "cell_type": "code",
   "execution_count": 41,
   "metadata": {},
   "outputs": [
    {
     "data": {
      "text/plain": [
       "[b'3', b'2', b'1', b'3', b'2', b'1', b'2', b'1']"
      ]
     },
     "execution_count": 41,
     "metadata": {},
     "output_type": "execute_result"
    }
   ],
   "source": [
    "redis_conn.lrange(\"user_visit_uid_01\", 0, -1)"
   ]
  },
  {
   "cell_type": "code",
   "execution_count": 39,
   "metadata": {},
   "outputs": [
    {
     "data": {
      "text/plain": [
       "[b'4', b'3', b'2']"
      ]
     },
     "execution_count": 39,
     "metadata": {},
     "output_type": "execute_result"
    }
   ],
   "source": [
    "redis_conn.lrange(\"user_visit_uid_02\", 0, -1)"
   ]
  },
  {
   "cell_type": "code",
   "execution_count": 40,
   "metadata": {},
   "outputs": [
    {
     "data": {
      "text/plain": [
       "{b'uid_01', b'uid_02', b'uid_03'}"
      ]
     },
     "execution_count": 40,
     "metadata": {},
     "output_type": "execute_result"
    }
   ],
   "source": [
    "redis_conn.smembers(\"all_visit_uids\")"
   ]
  },
  {
   "cell_type": "code",
   "execution_count": 44,
   "metadata": {},
   "outputs": [
    {
     "data": {
      "text/plain": [
       "[(b'4', 2.0), (b'3', 2.0), (b'2', 2.0), (b'6', 1.0), (b'5', 1.0), (b'1', 1.0)]"
      ]
     },
     "execution_count": 44,
     "metadata": {},
     "output_type": "execute_result"
    }
   ],
   "source": [
    "redis_conn.zrange(\"article_hots\", 0, -1, withscores=True, desc=True)"
   ]
  }
 ],
 "metadata": {
  "kernelspec": {
   "display_name": "Python 3.10.5 64-bit",
   "language": "python",
   "name": "python3"
  },
  "language_info": {
   "codemirror_mode": {
    "name": "ipython",
    "version": 3
   },
   "file_extension": ".py",
   "mimetype": "text/x-python",
   "name": "python",
   "nbconvert_exporter": "python",
   "pygments_lexer": "ipython3",
   "version": "3.10.5 (v3.10.5:f377153967, Jun  6 2022, 12:36:10) [Clang 13.0.0 (clang-1300.0.29.30)]"
  },
  "orig_nbformat": 4,
  "vscode": {
   "interpreter": {
    "hash": "aee8b7b246df8f9039afb4144a1f6fd8d2ca17a180786b69acc140d282b71a49"
   }
  }
 },
 "nbformat": 4,
 "nbformat_minor": 2
}
