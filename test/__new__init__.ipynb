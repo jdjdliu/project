{
 "cells": [
  {
   "cell_type": "code",
   "execution_count": 11,
   "metadata": {},
   "outputs": [
    {
     "name": "stdout",
     "output_type": "stream",
     "text": [
      "__new__(): <class '__main__.demoClass'> ('abc',) {}\n",
      "__init__(): <__main__.demoClass object at 0x111467100> abc\n",
      "0 1\n",
      ">>>>>>>>>>>>>>>>>>>>>\n",
      "__new__(): <class '__main__.demoClass'> ('xyz',) {}\n",
      "__init__(): <__main__.demoClass object at 0x1114643d0> xyz\n",
      "1 2\n"
     ]
    }
   ],
   "source": [
    "class demoClass:\n",
    "    instances_created = 0\n",
    "    def __new__(cls,*args,**kwargs):   # *args **kwargs 怎么用\n",
    "        print(\"__new__():\",cls,args,kwargs)\n",
    "        instance = super().__new__(cls)\n",
    "        instance.number = cls.instances_created\n",
    "        cls.instances_created += 1\n",
    "        return instance\n",
    "    def __init__(self,attribute):\n",
    "        print(\"__init__():\",self,attribute)\n",
    "        self.attribute = attribute\n",
    "test1 = demoClass(\"abc\")\n",
    "print(test1.number,test1.instances_created)\n",
    "print(\">>>>>>>>>>>>>>>>>>>>>\")\n",
    "test2 = demoClass(\"xyz\")\n",
    "print(test2.number,test2.instances_created)"
   ]
  },
  {
   "cell_type": "code",
   "execution_count": 15,
   "metadata": {},
   "outputs": [
    {
     "name": "stdout",
     "output_type": "stream",
     "text": [
      "初始化init 10\n",
      "解析完成finish A111 10\n",
      "初始化init 20\n",
      "解析完成finish A112 20\n",
      "<__main__.Solution object at 0x11108b640>\n",
      "<__main__.Solution object at 0x11108b370>\n",
      "4580750912\n",
      "4580750192\n"
     ]
    }
   ],
   "source": [
    "class Solution(object):\n",
    "   def __init__(self, name=None,data=None):\n",
    "       self.name = name\n",
    "       self.data = data\n",
    "       #初始化加载数据\n",
    "       self.xml_load(self.data)\n",
    "   def xml_load(self,data):\n",
    "       print(\"初始化init\",data)\n",
    "   def Parser(self):\n",
    "       print(\"解析完成finish\",self.name,self.data)\n",
    "a = Solution(name=\"A111\",data=10)\n",
    "a.Parser()\n",
    "b = Solution(name=\"A112\",data=20)\n",
    "b.Parser()\n",
    "# print(a)与 print(b)返回了类的名称和对象的地址\n",
    "print(a)\n",
    "print(b)\n",
    "# 可以使用内置函数id()查看python对象的内存地址  CPython 中 id() 函数用于获取对象的内存地址\n",
    "print(id(a))\n",
    "print(id(b))"
   ]
  },
  {
   "cell_type": "code",
   "execution_count": null,
   "metadata": {},
   "outputs": [],
   "source": [
    "class Fruit(object):\n",
    "    def __init__(self):\n",
    "        pass\n",
    "\n",
    "    def print_color(self):\n",
    "        pass\n",
    "\n",
    "class Apple(Fruit):\n",
    "    def __init__(self):\n",
    "        pass\n",
    "\n",
    "    def print_color(self):\n",
    "        print(\"apple is in red\")\n",
    "\n",
    "class Orange(Fruit):\n",
    "    def __init__(self):\n",
    "        pass\n",
    "\n",
    "    def print_color(self):\n",
    "        print(\"orange is in orange\")\n",
    "\n",
    "class FruitFactory(object):\n",
    "    fruits = {\"apple\": Apple, \"orange\": Orange}\n",
    "\n",
    "    def __new__(cls, name):\n",
    "        if name in cls.fruits.keys():\n",
    "            return cls.fruits[name]()\n",
    "        else:\n",
    "            return Fruit()\n",
    "\n",
    "fruit1 = FruitFactory(\"apple\")\n",
    "fruit2 = FruitFactory(\"orange\")\n",
    "fruit1.print_color()    \n",
    "fruit2.print_color()    "
   ]
  },
  {
   "cell_type": "code",
   "execution_count": 13,
   "metadata": {},
   "outputs": [
    {
     "name": "stdout",
     "output_type": "stream",
     "text": [
      "args =  (1, 2, 3, 4)\n",
      "kwargs =  {}\n",
      "---------------------------------------\n",
      "args =  ()\n",
      "kwargs =  {'a': 1, 'b': 2, 'c': 3}\n",
      "---------------------------------------\n",
      "args =  (1, 2, 3, 4)\n",
      "kwargs =  {'a': 1, 'b': 2, 'c': 3}\n",
      "---------------------------------------\n",
      "args =  ('a', 1, None)\n",
      "kwargs =  {'a': 1, 'b': '2', 'c': 3}\n",
      "---------------------------------------\n"
     ]
    }
   ],
   "source": [
    "def foo(*args, **kwargs):  # args表示任何多个无名参数，它是一个tuple；**kwargs表示关键字参数，它是一个dict。并且同时使用*args和**kwargs时，必须*args参数列要在**kwargs前\n",
    "    print('args = ', args)\n",
    "    print('kwargs = ', kwargs)\n",
    "    print('---------------------------------------')\n",
    "\n",
    "if __name__ == '__main__':\n",
    "    foo(1,2,3,4)\n",
    "    foo(a=1,b=2,c=3)\n",
    "    foo(1,2,3,4, a=1,b=2,c=3)\n",
    "    foo('a', 1, None, a=1, b='2', c=3)"
   ]
  }
 ],
 "metadata": {
  "kernelspec": {
   "display_name": "Python 3",
   "language": "python",
   "name": "python3"
  },
  "language_info": {
   "codemirror_mode": {
    "name": "ipython",
    "version": 3
   },
   "file_extension": ".py",
   "mimetype": "text/x-python",
   "name": "python",
   "nbconvert_exporter": "python",
   "pygments_lexer": "ipython3",
   "version": "3.10.5"
  },
  "orig_nbformat": 4,
  "vscode": {
   "interpreter": {
    "hash": "aee8b7b246df8f9039afb4144a1f6fd8d2ca17a180786b69acc140d282b71a49"
   }
  }
 },
 "nbformat": 4,
 "nbformat_minor": 2
}
