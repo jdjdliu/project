{
 "cells": [
  {
   "cell_type": "code",
   "execution_count": 2,
   "metadata": {},
   "outputs": [
    {
     "name": "stdout",
     "output_type": "stream",
     "text": [
      "{'name': 'jdliu', 'age': '123'}\n",
      "['name', 'age', '__module__', '__init__', '__str__', '__lt__', '__len__', '__dict__', '__weakref__', '__doc__', '__new__', '__repr__', '__hash__', '__getattribute__', '__setattr__', '__delattr__', '__le__', '__eq__', '__ne__', '__gt__', '__ge__', '__reduce_ex__', '__reduce__', '__subclasshook__', '__init_subclass__', '__format__', '__sizeof__', '__dir__', '__class__']\n",
      "None\n",
      "<built-in method __new__ of type object at 0x101c5c180>\n",
      "5\n",
      "False\n",
      "jdliu:123\n",
      "abc:17\tabc:18\tabe:12\tabe:19\n"
     ]
    }
   ],
   "source": [
    "class People(object):\n",
    "    def __init__(self, name, age):\n",
    "        self.name = name\n",
    "        self.age = age\n",
    "        return\n",
    "\n",
    "    def __str__(self):\n",
    "        return self.name + \":\" + str(self.age)\n",
    "\n",
    "    def __lt__(self, other):\n",
    "        return self.name < other.name if self.name != other.name else self.age < other.age\n",
    "    \n",
    "    def __len__(self):\n",
    "        lambda x : 1 + 2\n",
    "        return len(self.name)\n",
    "        \n",
    "\n",
    "\n",
    "if __name__==\"__main__\":\n",
    "    jdliu = People(\"jdliu\",\"123\")\n",
    "    print(jdliu.__dict__)\n",
    "    print(jdliu.__dir__())\n",
    "    print(jdliu.__doc__)\n",
    "    print(jdliu.__new__)\n",
    "    print(len(jdliu))\n",
    "    print(\"a\">\"b\")\n",
    "    print(jdliu)\n",
    "    print(\"\\t\".join([str(item) for item in sorted([People(\"abc\", 18),\n",
    "        People(\"abe\", 19), People(\"abe\", 12), People(\"abc\", 17)])]))"
   ]
  }
 ],
 "metadata": {
  "kernelspec": {
   "display_name": "Python 3",
   "language": "python",
   "name": "python3"
  },
  "language_info": {
   "codemirror_mode": {
    "name": "ipython",
    "version": 3
   },
   "file_extension": ".py",
   "mimetype": "text/x-python",
   "name": "python",
   "nbconvert_exporter": "python",
   "pygments_lexer": "ipython3",
   "version": "3.10.5"
  },
  "orig_nbformat": 4,
  "vscode": {
   "interpreter": {
    "hash": "aee8b7b246df8f9039afb4144a1f6fd8d2ca17a180786b69acc140d282b71a49"
   }
  }
 },
 "nbformat": 4,
 "nbformat_minor": 2
}
