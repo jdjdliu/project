{
 "cells": [
  {
   "cell_type": "code",
   "execution_count": 10,
   "metadata": {},
   "outputs": [
    {
     "name": "stdout",
     "output_type": "stream",
     "text": [
      "2450774262016\n",
      "2450774262016\n",
      "['a', 'b', 'c', 'd']\n",
      "******不可变数据类型******\n",
      "140736096833312\n",
      "2450774208304\n"
     ]
    }
   ],
   "source": [
    "# 可变数据类型：字典，列表,集合。   增删查改数据元素不会创建新对象\n",
    "l1=['a','b','c']\n",
    "print(id(l1))\n",
    "l1.append('d')\n",
    "print(id(l1))\n",
    "print(l1)\n",
    "\n",
    "# 不可变数据类型：不可变数据类型：元组，字符串，数值。     增删查改数据元素会创建一个新对象\n",
    "print(\"******不可变数据类型******\")\n",
    "s1=\"abc\"\n",
    "print(id(s1))\n",
    "s1=\"xyz\"\n",
    "print(id(s1))"
   ]
  },
  {
   "cell_type": "code",
   "execution_count": 11,
   "metadata": {},
   "outputs": [
    {
     "name": "stdout",
     "output_type": "stream",
     "text": [
      "1264121012608\n",
      "1264121012608\n",
      "{1: [1, 2, 3]}     {1: [1, 2, 3]}\n",
      "{1: [1, 2, 3, 4]}     {1: [1, 2, 3, 4]}\n"
     ]
    }
   ],
   "source": [
    "# 浅拷贝和深拷贝\n",
    "#浅拷贝(copy)：拷贝父对象，不会拷贝对象的内部的子对象。  外部是新的，但是内部还是之前的指针\n",
    "#深拷贝(deepcopy)： copy 模块的 deepcopy 方法，完全拷贝了父对象及其子对象。\n",
    "\n",
    "a = {1: [1,2,3]}\n",
    "# b = a\n",
    "b = a.copy()\n",
    "print(id(a[1]))\n",
    "print(id(b[1]))\n",
    "\n",
    "\n",
    "print(a,\"   \",b)\n",
    "\n",
    "a[1].append(4)\n",
    "print(a,\"   \",b)"
   ]
  },
  {
   "cell_type": "code",
   "execution_count": 6,
   "metadata": {},
   "outputs": [
    {
     "name": "stdout",
     "output_type": "stream",
     "text": [
      "1264094262128\n",
      "1264094262128\n"
     ]
    }
   ],
   "source": [
    "a = \"123\"# 不可变对象，改变值只会新增一个实例\n",
    "b = a  # 赋值是对对象的应用\n",
    "print(id(a))\n",
    "print(id(b))"
   ]
  },
  {
   "cell_type": "code",
   "execution_count": 15,
   "metadata": {},
   "outputs": [
    {
     "name": "stdout",
     "output_type": "stream",
     "text": [
      "[1, 2, 3, 4] [1, 2, 3, 4] [1, 2, 3, 5]\n"
     ]
    }
   ],
   "source": [
    "import copy\n",
    "a = [1,2,3]\n",
    "b = a\n",
    "c = copy.deepcopy(a)\n",
    "c.append(5)\n",
    "b.append(4)\n",
    "print(a,b,c)"
   ]
  },
  {
   "cell_type": "code",
   "execution_count": 18,
   "metadata": {},
   "outputs": [
    {
     "name": "stdout",
     "output_type": "stream",
     "text": [
      "{1: 2, 12: 2}\n"
     ]
    }
   ],
   "source": [
    "a = [(1,2),(12,2)]\n",
    "b = dict(a)\n",
    "print(b)"
   ]
  }
 ],
 "metadata": {
  "kernelspec": {
   "display_name": "Python 3",
   "language": "python",
   "name": "python3"
  },
  "language_info": {
   "codemirror_mode": {
    "name": "ipython",
    "version": 3
   },
   "file_extension": ".py",
   "mimetype": "text/x-python",
   "name": "python",
   "nbconvert_exporter": "python",
   "pygments_lexer": "ipython3",
   "version": "3.11.1 (tags/v3.11.1:a7a450f, Dec  6 2022, 19:58:39) [MSC v.1934 64 bit (AMD64)]"
  },
  "orig_nbformat": 4,
  "vscode": {
   "interpreter": {
    "hash": "6f21bb2d5c565dbc33d815445cee0d4e3f2f7951520fd8c0e3b4200672f41bfe"
   }
  }
 },
 "nbformat": 4,
 "nbformat_minor": 2
}
