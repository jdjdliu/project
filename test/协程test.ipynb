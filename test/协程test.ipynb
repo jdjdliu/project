{
 "cells": [
  {
   "cell_type": "code",
   "execution_count": 1,
   "metadata": {},
   "outputs": [],
   "source": [
    "def fib(n):\n",
    "    a, b = 0, 1\n",
    "    i = 0\n",
    "    while i < n:\n",
    "        yield b\n",
    "        a, b = b, a+b\n",
    "        i += 1"
   ]
  },
  {
   "cell_type": "code",
   "execution_count": 22,
   "metadata": {},
   "outputs": [],
   "source": [
    "f = fib(5)"
   ]
  },
  {
   "cell_type": "code",
   "execution_count": 15,
   "metadata": {},
   "outputs": [
    {
     "data": {
      "text/plain": [
       "<generator object fib at 0x107a1f6f0>"
      ]
     },
     "execution_count": 15,
     "metadata": {},
     "output_type": "execute_result"
    }
   ],
   "source": [
    "f"
   ]
  },
  {
   "cell_type": "code",
   "execution_count": 23,
   "metadata": {},
   "outputs": [
    {
     "name": "stdout",
     "output_type": "stream",
     "text": [
      "1\n",
      "1\n",
      "2\n",
      "3\n",
      "5\n"
     ]
    }
   ],
   "source": [
    "for i in f:\n",
    "    print(i)"
   ]
  },
  {
   "cell_type": "code",
   "execution_count": 33,
   "metadata": {},
   "outputs": [
    {
     "name": "stdout",
     "output_type": "stream",
     "text": [
      "-> 启动协程\n",
      "<class 'int'>\n",
      "5\n",
      "-> 协程接收到了x的值: 10\n"
     ]
    },
    {
     "ename": "StopIteration",
     "evalue": "",
     "output_type": "error",
     "traceback": [
      "\u001b[0;31m---------------------------------------------------------------------------\u001b[0m",
      "\u001b[0;31mStopIteration\u001b[0m                             Traceback (most recent call last)",
      "\u001b[1;32m/Users/jdliu/code/testcode/my_code/携程test.ipynb Cell 5\u001b[0m in \u001b[0;36m<cell line: 13>\u001b[0;34m()\u001b[0m\n\u001b[1;32m     <a href='vscode-notebook-cell:/Users/jdliu/code/testcode/my_code/%E6%90%BA%E7%A8%8Btest.ipynb#W4sZmlsZQ%3D%3D?line=10'>11</a>\u001b[0m \u001b[39mprint\u001b[39m(\u001b[39mtype\u001b[39m(ret))\n\u001b[1;32m     <a href='vscode-notebook-cell:/Users/jdliu/code/testcode/my_code/%E6%90%BA%E7%A8%8Btest.ipynb#W4sZmlsZQ%3D%3D?line=11'>12</a>\u001b[0m \u001b[39mprint\u001b[39m(ret)\n\u001b[0;32m---> <a href='vscode-notebook-cell:/Users/jdliu/code/testcode/my_code/%E6%90%BA%E7%A8%8Btest.ipynb#W4sZmlsZQ%3D%3D?line=12'>13</a>\u001b[0m my_coro\u001b[39m.\u001b[39;49msend(\u001b[39m10\u001b[39;49m)\n",
      "\u001b[0;31mStopIteration\u001b[0m: "
     ]
    }
   ],
   "source": [
    "# send()\n",
    "\n",
    "def simple_coroutine():\n",
    "    print('-> 启动协程')\n",
    "    y = 5\n",
    "    x = yield y\n",
    "    print('-> 协程接收到了x的值:', x)\n",
    "\n",
    "my_coro = simple_coroutine()\n",
    "ret = next(my_coro)\n",
    "print(type(ret))\n",
    "print(ret)\n",
    "my_coro.send(10)"
   ]
  },
  {
   "cell_type": "code",
   "execution_count": 1,
   "metadata": {},
   "outputs": [
    {
     "name": "stderr",
     "output_type": "stream",
     "text": [
      "/var/folders/f_/phwmgmvj1cz2y40j33nsvcvw0000gn/T/ipykernel_18884/1904639598.py:5: DeprecationWarning: \"@coroutine\" decorator is deprecated since Python 3.8, use \"async def\" instead\n",
      "  def display_date(num, loop):\n"
     ]
    },
    {
     "ename": "RuntimeError",
     "evalue": "This event loop is already running",
     "output_type": "error",
     "traceback": [
      "\u001b[0;31m---------------------------------------------------------------------------\u001b[0m",
      "\u001b[0;31mRuntimeError\u001b[0m                              Traceback (most recent call last)",
      "\u001b[1;32m/Users/jdliu/code/project/test/协程test.ipynb Cell 6\u001b[0m in \u001b[0;36m<cell line: 14>\u001b[0;34m()\u001b[0m\n\u001b[1;32m     <a href='vscode-notebook-cell:/Users/jdliu/code/project/test/%E5%8D%8F%E7%A8%8Btest.ipynb#W5sZmlsZQ%3D%3D?line=11'>12</a>\u001b[0m loop \u001b[39m=\u001b[39m asyncio\u001b[39m.\u001b[39mget_event_loop()  \u001b[39m# 获取一个event_loop\u001b[39;00m\n\u001b[1;32m     <a href='vscode-notebook-cell:/Users/jdliu/code/project/test/%E5%8D%8F%E7%A8%8Btest.ipynb#W5sZmlsZQ%3D%3D?line=12'>13</a>\u001b[0m tasks \u001b[39m=\u001b[39m [display_date(\u001b[39m1\u001b[39m, loop), display_date(\u001b[39m2\u001b[39m, loop)]\n\u001b[0;32m---> <a href='vscode-notebook-cell:/Users/jdliu/code/project/test/%E5%8D%8F%E7%A8%8Btest.ipynb#W5sZmlsZQ%3D%3D?line=13'>14</a>\u001b[0m loop\u001b[39m.\u001b[39;49mrun_until_complete(asyncio\u001b[39m.\u001b[39;49mgather(\u001b[39m*\u001b[39;49mtasks))  \u001b[39m# \"阻塞\"直到所有的tasks完成\u001b[39;00m\n\u001b[1;32m     <a href='vscode-notebook-cell:/Users/jdliu/code/project/test/%E5%8D%8F%E7%A8%8Btest.ipynb#W5sZmlsZQ%3D%3D?line=14'>15</a>\u001b[0m loop\u001b[39m.\u001b[39mclose()\n",
      "File \u001b[0;32m/Library/Frameworks/Python.framework/Versions/3.10/lib/python3.10/asyncio/base_events.py:622\u001b[0m, in \u001b[0;36mBaseEventLoop.run_until_complete\u001b[0;34m(self, future)\u001b[0m\n\u001b[1;32m    611\u001b[0m \u001b[39m\"\"\"Run until the Future is done.\u001b[39;00m\n\u001b[1;32m    612\u001b[0m \n\u001b[1;32m    613\u001b[0m \u001b[39mIf the argument is a coroutine, it is wrapped in a Task.\u001b[39;00m\n\u001b[0;32m   (...)\u001b[0m\n\u001b[1;32m    619\u001b[0m \u001b[39mReturn the Future's result, or raise its exception.\u001b[39;00m\n\u001b[1;32m    620\u001b[0m \u001b[39m\"\"\"\u001b[39;00m\n\u001b[1;32m    621\u001b[0m \u001b[39mself\u001b[39m\u001b[39m.\u001b[39m_check_closed()\n\u001b[0;32m--> 622\u001b[0m \u001b[39mself\u001b[39;49m\u001b[39m.\u001b[39;49m_check_running()\n\u001b[1;32m    624\u001b[0m new_task \u001b[39m=\u001b[39m \u001b[39mnot\u001b[39;00m futures\u001b[39m.\u001b[39misfuture(future)\n\u001b[1;32m    625\u001b[0m future \u001b[39m=\u001b[39m tasks\u001b[39m.\u001b[39mensure_future(future, loop\u001b[39m=\u001b[39m\u001b[39mself\u001b[39m)\n",
      "File \u001b[0;32m/Library/Frameworks/Python.framework/Versions/3.10/lib/python3.10/asyncio/base_events.py:582\u001b[0m, in \u001b[0;36mBaseEventLoop._check_running\u001b[0;34m(self)\u001b[0m\n\u001b[1;32m    580\u001b[0m \u001b[39mdef\u001b[39;00m \u001b[39m_check_running\u001b[39m(\u001b[39mself\u001b[39m):\n\u001b[1;32m    581\u001b[0m     \u001b[39mif\u001b[39;00m \u001b[39mself\u001b[39m\u001b[39m.\u001b[39mis_running():\n\u001b[0;32m--> 582\u001b[0m         \u001b[39mraise\u001b[39;00m \u001b[39mRuntimeError\u001b[39;00m(\u001b[39m'\u001b[39m\u001b[39mThis event loop is already running\u001b[39m\u001b[39m'\u001b[39m)\n\u001b[1;32m    583\u001b[0m     \u001b[39mif\u001b[39;00m events\u001b[39m.\u001b[39m_get_running_loop() \u001b[39mis\u001b[39;00m \u001b[39mnot\u001b[39;00m \u001b[39mNone\u001b[39;00m:\n\u001b[1;32m    584\u001b[0m         \u001b[39mraise\u001b[39;00m \u001b[39mRuntimeError\u001b[39;00m(\n\u001b[1;32m    585\u001b[0m             \u001b[39m'\u001b[39m\u001b[39mCannot run the event loop while another loop is running\u001b[39m\u001b[39m'\u001b[39m)\n",
      "\u001b[0;31mRuntimeError\u001b[0m: This event loop is already running"
     ]
    },
    {
     "name": "stdout",
     "output_type": "stream",
     "text": [
      "Loop: 1 Time: 2023-02-27 19:43:12.577669\n",
      "Loop: 2 Time: 2023-02-27 19:43:12.577934\n",
      "Loop: 1 Time: 2023-02-27 19:43:14.579058\n",
      "Loop: 2 Time: 2023-02-27 19:43:14.579161\n",
      "Loop: 1 Time: 2023-02-27 19:43:16.580538\n",
      "Loop: 2 Time: 2023-02-27 19:43:16.580913\n",
      "Loop: 1 Time: 2023-02-27 19:43:18.582164\n",
      "Loop: 2 Time: 2023-02-27 19:43:18.582531\n",
      "Loop: 1 Time: 2023-02-27 19:43:20.583027\n",
      "Loop: 2 Time: 2023-02-27 19:43:20.583430\n",
      "Loop: 1 Time: 2023-02-27 19:43:22.584744\n",
      "Loop: 2 Time: 2023-02-27 19:43:22.584992\n"
     ]
    }
   ],
   "source": [
    "import asyncio\n",
    "import datetime\n",
    "\n",
    "@asyncio.coroutine  # 声明一个协程\n",
    "def display_date(num, loop):\n",
    "    end_time = loop.time() + 10.0\n",
    "    while True:\n",
    "        print(\"Loop: {} Time: {}\".format(num, datetime.datetime.now()))\n",
    "        if (loop.time() + 1.0) >= end_time:\n",
    "            break\n",
    "        yield from asyncio.sleep(2)  # 阻塞直到协程sleep(2)返回结果\n",
    "loop = asyncio.get_event_loop()  # 获取一个event_loop\n",
    "tasks = [display_date(1, loop), display_date(2, loop)]\n",
    "loop.run_until_complete(asyncio.gather(*tasks))  # \"阻塞\"直到所有的tasks完成\n",
    "loop.close()"
   ]
  },
  {
   "cell_type": "code",
   "execution_count": 4,
   "metadata": {},
   "outputs": [
    {
     "name": "stdout",
     "output_type": "stream",
     "text": [
      "True\n"
     ]
    },
    {
     "ename": "RuntimeError",
     "evalue": "This event loop is already running",
     "output_type": "error",
     "traceback": [
      "\u001b[0;31m---------------------------------------------------------------------------\u001b[0m",
      "\u001b[0;31mRuntimeError\u001b[0m                              Traceback (most recent call last)",
      "\u001b[1;32m/Users/jdliu/code/testcode/my_code/携程test.ipynb Cell 7\u001b[0m in \u001b[0;36m<cell line: 7>\u001b[0;34m()\u001b[0m\n\u001b[1;32m     <a href='vscode-notebook-cell:/Users/jdliu/code/testcode/my_code/%E6%90%BA%E7%A8%8Btest.ipynb#W6sZmlsZQ%3D%3D?line=10'>11</a>\u001b[0m asyncio\u001b[39m.\u001b[39mensure_future(func(future))\n\u001b[1;32m     <a href='vscode-notebook-cell:/Users/jdliu/code/testcode/my_code/%E6%90%BA%E7%A8%8Btest.ipynb#W6sZmlsZQ%3D%3D?line=11'>12</a>\u001b[0m \u001b[39mprint\u001b[39m(loop\u001b[39m.\u001b[39mis_running())   \u001b[39m# 查看当前状态时循环是否已经启动\u001b[39;00m\n\u001b[0;32m---> <a href='vscode-notebook-cell:/Users/jdliu/code/testcode/my_code/%E6%90%BA%E7%A8%8Btest.ipynb#W6sZmlsZQ%3D%3D?line=12'>13</a>\u001b[0m loop\u001b[39m.\u001b[39;49mrun_until_complete(future)\n\u001b[1;32m     <a href='vscode-notebook-cell:/Users/jdliu/code/testcode/my_code/%E6%90%BA%E7%A8%8Btest.ipynb#W6sZmlsZQ%3D%3D?line=13'>14</a>\u001b[0m \u001b[39mprint\u001b[39m(future\u001b[39m.\u001b[39mresult())\n\u001b[1;32m     <a href='vscode-notebook-cell:/Users/jdliu/code/testcode/my_code/%E6%90%BA%E7%A8%8Btest.ipynb#W6sZmlsZQ%3D%3D?line=14'>15</a>\u001b[0m loop\u001b[39m.\u001b[39mclose()\n",
      "File \u001b[0;32m/Library/Frameworks/Python.framework/Versions/3.10/lib/python3.10/asyncio/base_events.py:622\u001b[0m, in \u001b[0;36mBaseEventLoop.run_until_complete\u001b[0;34m(self, future)\u001b[0m\n\u001b[1;32m    611\u001b[0m \u001b[39m\"\"\"Run until the Future is done.\u001b[39;00m\n\u001b[1;32m    612\u001b[0m \n\u001b[1;32m    613\u001b[0m \u001b[39mIf the argument is a coroutine, it is wrapped in a Task.\u001b[39;00m\n\u001b[0;32m   (...)\u001b[0m\n\u001b[1;32m    619\u001b[0m \u001b[39mReturn the Future's result, or raise its exception.\u001b[39;00m\n\u001b[1;32m    620\u001b[0m \u001b[39m\"\"\"\u001b[39;00m\n\u001b[1;32m    621\u001b[0m \u001b[39mself\u001b[39m\u001b[39m.\u001b[39m_check_closed()\n\u001b[0;32m--> 622\u001b[0m \u001b[39mself\u001b[39;49m\u001b[39m.\u001b[39;49m_check_running()\n\u001b[1;32m    624\u001b[0m new_task \u001b[39m=\u001b[39m \u001b[39mnot\u001b[39;00m futures\u001b[39m.\u001b[39misfuture(future)\n\u001b[1;32m    625\u001b[0m future \u001b[39m=\u001b[39m tasks\u001b[39m.\u001b[39mensure_future(future, loop\u001b[39m=\u001b[39m\u001b[39mself\u001b[39m)\n",
      "File \u001b[0;32m/Library/Frameworks/Python.framework/Versions/3.10/lib/python3.10/asyncio/base_events.py:582\u001b[0m, in \u001b[0;36mBaseEventLoop._check_running\u001b[0;34m(self)\u001b[0m\n\u001b[1;32m    580\u001b[0m \u001b[39mdef\u001b[39;00m \u001b[39m_check_running\u001b[39m(\u001b[39mself\u001b[39m):\n\u001b[1;32m    581\u001b[0m     \u001b[39mif\u001b[39;00m \u001b[39mself\u001b[39m\u001b[39m.\u001b[39mis_running():\n\u001b[0;32m--> 582\u001b[0m         \u001b[39mraise\u001b[39;00m \u001b[39mRuntimeError\u001b[39;00m(\u001b[39m'\u001b[39m\u001b[39mThis event loop is already running\u001b[39m\u001b[39m'\u001b[39m)\n\u001b[1;32m    583\u001b[0m     \u001b[39mif\u001b[39;00m events\u001b[39m.\u001b[39m_get_running_loop() \u001b[39mis\u001b[39;00m \u001b[39mnot\u001b[39;00m \u001b[39mNone\u001b[39;00m:\n\u001b[1;32m    584\u001b[0m         \u001b[39mraise\u001b[39;00m \u001b[39mRuntimeError\u001b[39;00m(\n\u001b[1;32m    585\u001b[0m             \u001b[39m'\u001b[39m\u001b[39mCannot run the event loop while another loop is running\u001b[39m\u001b[39m'\u001b[39m)\n",
      "\u001b[0;31mRuntimeError\u001b[0m: This event loop is already running"
     ]
    }
   ],
   "source": [
    "import asyncio\n",
    "\n",
    "async def func(future):\n",
    "    await asyncio.sleep(1)\n",
    "    future.set_result('Future is done!')\n",
    "\n",
    "if __name__ == '__main__':\n",
    "\n",
    "    loop = asyncio.get_event_loop()\n",
    "    future = asyncio.Future()\n",
    "    asyncio.ensure_future(func(future))\n",
    "    print(loop.is_running())   # 查看当前状态时循环是否已经启动\n",
    "    loop.run_until_complete(future)\n",
    "    print(future.result())\n",
    "    loop.close()"
   ]
  }
 ],
 "metadata": {
  "kernelspec": {
   "display_name": "Python 3",
   "language": "python",
   "name": "python3"
  },
  "language_info": {
   "codemirror_mode": {
    "name": "ipython",
    "version": 3
   },
   "file_extension": ".py",
   "mimetype": "text/x-python",
   "name": "python",
   "nbconvert_exporter": "python",
   "pygments_lexer": "ipython3",
   "version": "3.10.5 (v3.10.5:f377153967, Jun  6 2022, 12:36:10) [Clang 13.0.0 (clang-1300.0.29.30)]"
  },
  "orig_nbformat": 4,
  "vscode": {
   "interpreter": {
    "hash": "aee8b7b246df8f9039afb4144a1f6fd8d2ca17a180786b69acc140d282b71a49"
   }
  }
 },
 "nbformat": 4,
 "nbformat_minor": 2
}
